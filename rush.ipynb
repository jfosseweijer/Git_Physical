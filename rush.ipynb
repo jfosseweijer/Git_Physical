{
 "cells": [
  {
   "cell_type": "markdown",
   "metadata": {},
   "source": [
    "## Rush Hour\n",
    "This is a simple setup for the implementation of Rush Hour.\n",
    "The code was written using Python 3.9.18.  \n",
    "Last edited by Nanne on 08/01/2024."
   ]
  },
  {
   "cell_type": "code",
   "execution_count": 8,
   "metadata": {},
   "outputs": [],
   "source": [
    "import numpy as np\n",
    "import pandas as pd\n",
    "import os"
   ]
  },
  {
   "cell_type": "markdown",
   "metadata": {},
   "source": [
    "#### Classes  \n",
    "Last edited by Nanne on 10/01/2024. Added the ability to move pieces."
   ]
  },
  {
   "cell_type": "code",
   "execution_count": 9,
   "metadata": {},
   "outputs": [],
   "source": [
    "class Vehicle:\n",
    "    def __init__(self, length, orientation, position, name, colour='black'):\n",
    "        self.length = int(length)\n",
    "        self.orientation = orientation\n",
    "        self.position = position\n",
    "        self.name = name\n",
    "        self.colour = colour\n",
    "\n",
    "class Board:\n",
    "    def __init__(self, size):\n",
    "        self.grid = np.array([[' '] * size] * size, dtype=object)\n",
    "        self.vehicles = []\n",
    "\n",
    "    def add_vehicle(self, vehicle):\n",
    "        self.vehicles.append(vehicle)\n",
    "        col, row = vehicle.position\n",
    "        if vehicle.orientation == 'H':\n",
    "            for i in range(vehicle.length):\n",
    "                self.grid[row][col + i] = vehicle.name\n",
    "        else:\n",
    "            for i in range(vehicle.length):\n",
    "                self.grid[row + i][col] = vehicle.name\n",
    "\n",
    "    # Method to ensure pieces are actually on the board\n",
    "    def find_vehicle(self, name):\n",
    "        for vehicle in self.vehicles:\n",
    "            if vehicle.name == name:\n",
    "                return vehicle\n",
    "        return None\n",
    "    \n",
    "    def place_piece(self, vehicle, new_position):\n",
    "        col, row = new_position\n",
    "        if col < 0 or col >= self.size or row < 0 or row >= self.size:\n",
    "            raise ValueError(\"Position out of bounds\")\n",
    "        if vehicle.orientation == 'H':\n",
    "            for i in range(vehicle.length):\n",
    "                self.grid[row][col + i] = vehicle.name\n",
    "        else:\n",
    "            for i in range(vehicle.length):\n",
    "                self.grid[row + i][col] = vehicle.name\n",
    "\n",
    "    def move_piece(self, name, new_position):\n",
    "        # Make sure piece is on the board\n",
    "        vehicle = self.find_vehicle(name)\n",
    "        if vehicle is None:\n",
    "            raise ValueError(\"Piece not found\")\n",
    "\n",
    "        old_col, old_row = vehicle.position\n",
    "        new_col, new_row = new_position\n",
    "\n",
    "        # Makes sure the piece is moving along it's orientation\n",
    "        if vehicle.orientation == 'H' and old_row != new_row:\n",
    "            raise ValueError(\"Invalid move\")\n",
    "        elif vehicle.orientation == 'V' and old_col != new_col:\n",
    "            raise ValueError(\"Invalid move\")\n",
    "\n",
    "        # Check if new position is already occupied\n",
    "        if vehicle.orientation == 'H':\n",
    "            for i in range(vehicle.length):\n",
    "                if self.grid[new_row][new_col + i] != ' ' and self.grid[new_row][new_col + i] != name:\n",
    "                    raise ValueError(\"New position already occupied\")\n",
    "        else:\n",
    "            for i in range(vehicle.length):\n",
    "                if self.grid[new_row + i][new_col] != ' ' and self.grid[new_row + i][new_col] != name:\n",
    "                    raise ValueError(\"New position already occupied\")\n",
    "\n",
    "        # Clear old position\n",
    "        if vehicle.orientation == 'H':\n",
    "            for i in range(vehicle.length):\n",
    "                self.grid[old_row][old_col + i] = ' '\n",
    "        else:\n",
    "            for i in range(vehicle.length):\n",
    "                self.grid[old_row + i][old_col] = ' '\n",
    "\n",
    "        # Place piece at new position\n",
    "        vehicle.position = new_position\n",
    "        self.place_piece(vehicle, new_position)"
   ]
  },
  {
   "cell_type": "markdown",
   "metadata": {},
   "source": [
    "Little os magic to read the files:"
   ]
  },
  {
   "cell_type": "code",
   "execution_count": 10,
   "metadata": {},
   "outputs": [],
   "source": [
    "# Saves the boards in a list. \n",
    "gameboards = []\n",
    "path = os.path.join(os.getcwd(), 'gameboards')\n",
    "for filename in os.listdir(path):\n",
    "    board_df = pd.read_csv(os.path.join(path, filename))\n",
    "    board_df.set_index('car', inplace=True)\n",
    "    gameboards.append(board_df)\n"
   ]
  },
  {
   "cell_type": "markdown",
   "metadata": {},
   "source": [
    "Function to set up the board:"
   ]
  },
  {
   "cell_type": "code",
   "execution_count": 11,
   "metadata": {},
   "outputs": [],
   "source": [
    "def setup_board(gameboard, board_size=6):\n",
    "    # Set the grid of the board\n",
    "    board = Board(board_size)\n",
    "    for index, car in gameboard.iterrows():\n",
    "        # Set length to be an int instead of string\n",
    "        length = int(car['length'])\n",
    "\n",
    "        # Subtract 1 from position to make it zero-indexed\n",
    "        car['row'] -= 1\n",
    "        car['col'] -= 1\n",
    "\n",
    "        # Create vehicle object and add it to the board, index serves as name\n",
    "        vehicle = Vehicle(length, car['orientation'], (car['col'], car['row']), index)\n",
    "        board.add_vehicle(vehicle)\n",
    "    return board"
   ]
  },
  {
   "cell_type": "markdown",
   "metadata": {},
   "source": [
    "Board printer function:"
   ]
  },
  {
   "cell_type": "code",
   "execution_count": 12,
   "metadata": {},
   "outputs": [],
   "source": [
    "def print_board(board):\n",
    "    \"\"\" \n",
    "    Prints the board in a neat format.\n",
    "    \"\"\"\n",
    "    for row in board.grid:\n",
    "        print(' '.join(str(x).ljust(2) for x in row))"
   ]
  },
  {
   "cell_type": "code",
   "execution_count": 13,
   "metadata": {},
   "outputs": [
    {
     "name": "stdout",
     "output_type": "stream",
     "text": [
      "Game 1:\n",
      "   A  A  B  B  B \n",
      "   C  C  E  D  D \n",
      "X  X  G  E     I \n",
      "F  F  G  H  H  I \n",
      "K     L     J  J \n",
      "K     L          \n",
      "\n",
      "\n",
      "Game 2:\n",
      "      A  A  B  B \n",
      "   C  C  D  D  H \n",
      "      X  X  G  H \n",
      "E  E  F  F  G  H \n",
      "J        K  I  I \n",
      "J        K  L  L \n",
      "\n",
      "\n",
      "Game 3:\n",
      "      B  A  A  C \n",
      "      B        C \n",
      "      B  X  X  C \n",
      "         G  D  D \n",
      "F  E  E  G       \n",
      "F        G  H  H \n",
      "\n",
      "\n"
     ]
    }
   ],
   "source": [
    "for game, board in enumerate(gameboards):\n",
    "    print(f\"Game {game + 1}:\")\n",
    "    print_board(setup_board(board))\n",
    "    print('\\n')"
   ]
  },
  {
   "cell_type": "code",
   "execution_count": 14,
   "metadata": {},
   "outputs": [
    {
     "name": "stdout",
     "output_type": "stream",
     "text": [
      "Game 1\n",
      "Initial board state:\n"
     ]
    },
    {
     "ename": "AttributeError",
     "evalue": "'DataFrame' object has no attribute 'board'",
     "output_type": "error",
     "traceback": [
      "\u001b[0;31m---------------------------------------------------------------------------\u001b[0m",
      "\u001b[0;31mAttributeError\u001b[0m                            Traceback (most recent call last)",
      "\u001b[0;32m/var/folders/xb/yt1pyh7x53z6xgdq5pkq87v80000gn/T/ipykernel_6515/3422579741.py\u001b[0m in \u001b[0;36m?\u001b[0;34m()\u001b[0m\n\u001b[1;32m      3\u001b[0m \u001b[0;32mfor\u001b[0m \u001b[0mi\u001b[0m\u001b[0;34m,\u001b[0m \u001b[0mboard\u001b[0m \u001b[0;32min\u001b[0m \u001b[0menumerate\u001b[0m\u001b[0;34m(\u001b[0m\u001b[0mgameboards\u001b[0m\u001b[0;34m)\u001b[0m\u001b[0;34m:\u001b[0m\u001b[0;34m\u001b[0m\u001b[0;34m\u001b[0m\u001b[0m\n\u001b[1;32m      4\u001b[0m     \u001b[0mprint\u001b[0m\u001b[0;34m(\u001b[0m\u001b[0;34mf\"Game {i+1}\"\u001b[0m\u001b[0;34m)\u001b[0m\u001b[0;34m\u001b[0m\u001b[0;34m\u001b[0m\u001b[0m\n\u001b[1;32m      5\u001b[0m \u001b[0;34m\u001b[0m\u001b[0m\n\u001b[1;32m      6\u001b[0m     \u001b[0;31m# Print the initial board state\u001b[0m\u001b[0;34m\u001b[0m\u001b[0;34m\u001b[0m\u001b[0m\n\u001b[0;32m----> 7\u001b[0;31m     \u001b[0mprint\u001b[0m\u001b[0;34m(\u001b[0m\u001b[0;34m\"Initial board state:\"\u001b[0m\u001b[0;34m)\u001b[0m\u001b[0;34m\u001b[0m\u001b[0;34m\u001b[0m\u001b[0m\n\u001b[0m\u001b[1;32m      8\u001b[0m     \u001b[0;32mfor\u001b[0m \u001b[0mrow\u001b[0m \u001b[0;32min\u001b[0m \u001b[0mboard\u001b[0m\u001b[0;34m.\u001b[0m\u001b[0mboard\u001b[0m\u001b[0;34m:\u001b[0m\u001b[0;34m\u001b[0m\u001b[0;34m\u001b[0m\u001b[0m\n\u001b[1;32m      9\u001b[0m         \u001b[0mprint\u001b[0m\u001b[0;34m(\u001b[0m\u001b[0;34m' '\u001b[0m\u001b[0;34m.\u001b[0m\u001b[0mjoin\u001b[0m\u001b[0;34m(\u001b[0m\u001b[0mrow\u001b[0m\u001b[0;34m)\u001b[0m\u001b[0;34m)\u001b[0m\u001b[0;34m\u001b[0m\u001b[0;34m\u001b[0m\u001b[0m\n\u001b[1;32m     10\u001b[0m     \u001b[0mprint\u001b[0m\u001b[0;34m(\u001b[0m\u001b[0;34m)\u001b[0m\u001b[0;34m\u001b[0m\u001b[0;34m\u001b[0m\u001b[0m\n",
      "\u001b[0;32m~/miniconda3/envs/progLab/lib/python3.9/site-packages/pandas/core/generic.py\u001b[0m in \u001b[0;36m?\u001b[0;34m(self, name)\u001b[0m\n\u001b[1;32m   6198\u001b[0m             \u001b[0;32mand\u001b[0m \u001b[0mname\u001b[0m \u001b[0;32mnot\u001b[0m \u001b[0;32min\u001b[0m \u001b[0mself\u001b[0m\u001b[0;34m.\u001b[0m\u001b[0m_accessors\u001b[0m\u001b[0;34m\u001b[0m\u001b[0;34m\u001b[0m\u001b[0m\n\u001b[1;32m   6199\u001b[0m             \u001b[0;32mand\u001b[0m \u001b[0mself\u001b[0m\u001b[0;34m.\u001b[0m\u001b[0m_info_axis\u001b[0m\u001b[0;34m.\u001b[0m\u001b[0m_can_hold_identifiers_and_holds_name\u001b[0m\u001b[0;34m(\u001b[0m\u001b[0mname\u001b[0m\u001b[0;34m)\u001b[0m\u001b[0;34m\u001b[0m\u001b[0;34m\u001b[0m\u001b[0m\n\u001b[1;32m   6200\u001b[0m         ):\n\u001b[1;32m   6201\u001b[0m             \u001b[0;32mreturn\u001b[0m \u001b[0mself\u001b[0m\u001b[0;34m[\u001b[0m\u001b[0mname\u001b[0m\u001b[0;34m]\u001b[0m\u001b[0;34m\u001b[0m\u001b[0;34m\u001b[0m\u001b[0m\n\u001b[0;32m-> 6202\u001b[0;31m         \u001b[0;32mreturn\u001b[0m \u001b[0mobject\u001b[0m\u001b[0;34m.\u001b[0m\u001b[0m__getattribute__\u001b[0m\u001b[0;34m(\u001b[0m\u001b[0mself\u001b[0m\u001b[0;34m,\u001b[0m \u001b[0mname\u001b[0m\u001b[0;34m)\u001b[0m\u001b[0;34m\u001b[0m\u001b[0;34m\u001b[0m\u001b[0m\n\u001b[0m",
      "\u001b[0;31mAttributeError\u001b[0m: 'DataFrame' object has no attribute 'board'"
     ]
    }
   ],
   "source": [
    "moved_X = False\n",
    "\n",
    "while not moved_X:\n",
    "    car_name = input(\"Enter the name of the car to move: \")\n",
    "    new_position = tuple(map(int, input(\"Enter the new position as 'x y': \").split()))\n",
    "\n",
    "    try:\n",
    "        board.move_piece(car_name, new_position)\n",
    "        print(f\"Moved {car_name} to {new_position}:\")\n",
    "        print_board(board)\n",
    "\n",
    "        if car_name == 'X':\n",
    "            moved_X = True\n",
    "    except ValueError as e:\n",
    "        print(f\"Failed to move {car_name} to {new_position}: {e}\")"
   ]
  }
 ],
 "metadata": {
  "kernelspec": {
   "display_name": "Python 3",
   "language": "python",
   "name": "python3"
  },
  "language_info": {
   "codemirror_mode": {
    "name": "ipython",
    "version": 3
   },
   "file_extension": ".py",
   "mimetype": "text/x-python",
   "name": "python",
   "nbconvert_exporter": "python",
   "pygments_lexer": "ipython3",
   "version": "3.9.18"
  }
 },
 "nbformat": 4,
 "nbformat_minor": 2
}
